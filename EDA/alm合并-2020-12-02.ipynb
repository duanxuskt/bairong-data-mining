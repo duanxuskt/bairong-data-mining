{
 "cells": [
  {
   "cell_type": "code",
   "execution_count": 1,
   "metadata": {},
   "outputs": [],
   "source": [
    "import numpy as np # linear algebra\n",
    "import pandas as pd # data processing, CSV file I/O (e.g. pd.read_csv)\n",
    "import matplotlib.pyplot as plt\n",
    "\n",
    "import matplotlib as mpl\n",
    "mpl.rcParams['font.sans-serif'] = ['SimHei']\n",
    "mpl.rcParams['font.serif'] = ['SimHei']\n",
    "import seaborn as sns\n",
    "%matplotlib inline\n",
    "p = sns.color_palette()\n",
    "sns.set_style(\"darkgrid\",{\"font.sans-serif\":['simhei', 'Arial']})"
   ]
  },
  {
   "cell_type": "code",
   "execution_count": 2,
   "metadata": {},
   "outputs": [],
   "source": [
    "import os\n",
    "data_dir = \"D:/GRADUATE\\BAIRONG/Review\"\n",
    "def csv_f(file_name):\n",
    "    return os.path.join(data_dir,file_name)\n",
    "\n",
    "df_profile_all = pd.read_csv(csv_f(\"profile_all.csv\"))"
   ]
  },
  {
   "cell_type": "code",
   "execution_count": 3,
   "metadata": {},
   "outputs": [
    {
     "name": "stderr",
     "output_type": "stream",
     "text": [
      "E:\\Programmer\\Anaconda3\\lib\\site-packages\\IPython\\core\\interactiveshell.py:3063: DtypeWarning: Columns (1,5,6,10,11,12,13,14,16,17,18,19,20,21,22,24,25,26,27,28,31,32,33,34,35,36,37,39,40,41,42,43,44,45,46,47,48,49,50,51,53,54,55,56,57,58) have mixed types.Specify dtype option on import or set low_memory=False.\n",
      "  interactivity=interactivity, compiler=compiler, result=result)\n"
     ]
    }
   ],
   "source": [
    "alm_0 = pd.read_csv(csv_f(\"alm_0.csv\"))\n",
    "alm_3 = pd.read_csv(csv_f(\"alm_3.csv\"))\n",
    "alm_6 = pd.read_csv(csv_f(\"alm_6.csv\"))\n",
    "alm_9 = pd.read_csv(csv_f(\"alm_9.csv\"))"
   ]
  },
  {
   "cell_type": "code",
   "execution_count": 4,
   "metadata": {},
   "outputs": [],
   "source": [
    "alm_3_ = alm_3.iloc[1:,:]"
   ]
  },
  {
   "cell_type": "code",
   "execution_count": 5,
   "metadata": {},
   "outputs": [],
   "source": [
    "alm_6_ = alm_6.iloc[1:,:]"
   ]
  },
  {
   "cell_type": "code",
   "execution_count": 6,
   "metadata": {},
   "outputs": [],
   "source": [
    "alm_9_ = alm_9.iloc[1:,:]"
   ]
  },
  {
   "cell_type": "code",
   "execution_count": 7,
   "metadata": {},
   "outputs": [
    {
     "name": "stderr",
     "output_type": "stream",
     "text": [
      "E:\\Programmer\\Anaconda3\\lib\\site-packages\\pandas\\core\\frame.py:4133: SettingWithCopyWarning: \n",
      "A value is trying to be set on a copy of a slice from a DataFrame\n",
      "\n",
      "See the caveats in the documentation: https://pandas.pydata.org/pandas-docs/stable/user_guide/indexing.html#returning-a-view-versus-a-copy\n",
      "  errors=errors,\n"
     ]
    }
   ],
   "source": [
    "alm_0.rename(columns={'Unnamed: 0':'index_0'},inplace=True)\n",
    "alm_3_.rename(columns={'Unnamed: 0':'index_3'},inplace=True)\n",
    "alm_6_.rename(columns={'Unnamed: 0':'index_6'},inplace=True)\n",
    "alm_9_.rename(columns={'Unnamed: 0':'index_9'},inplace=True)"
   ]
  },
  {
   "cell_type": "code",
   "execution_count": 8,
   "metadata": {},
   "outputs": [
    {
     "name": "stderr",
     "output_type": "stream",
     "text": [
      "E:\\Programmer\\Anaconda3\\lib\\site-packages\\ipykernel_launcher.py:2: SettingWithCopyWarning: \n",
      "A value is trying to be set on a copy of a slice from a DataFrame.\n",
      "Try using .loc[row_indexer,col_indexer] = value instead\n",
      "\n",
      "See the caveats in the documentation: https://pandas.pydata.org/pandas-docs/stable/user_guide/indexing.html#returning-a-view-versus-a-copy\n",
      "  \n",
      "E:\\Programmer\\Anaconda3\\lib\\site-packages\\ipykernel_launcher.py:3: SettingWithCopyWarning: \n",
      "A value is trying to be set on a copy of a slice from a DataFrame.\n",
      "Try using .loc[row_indexer,col_indexer] = value instead\n",
      "\n",
      "See the caveats in the documentation: https://pandas.pydata.org/pandas-docs/stable/user_guide/indexing.html#returning-a-view-versus-a-copy\n",
      "  This is separate from the ipykernel package so we can avoid doing imports until\n",
      "E:\\Programmer\\Anaconda3\\lib\\site-packages\\ipykernel_launcher.py:4: SettingWithCopyWarning: \n",
      "A value is trying to be set on a copy of a slice from a DataFrame.\n",
      "Try using .loc[row_indexer,col_indexer] = value instead\n",
      "\n",
      "See the caveats in the documentation: https://pandas.pydata.org/pandas-docs/stable/user_guide/indexing.html#returning-a-view-versus-a-copy\n",
      "  after removing the cwd from sys.path.\n"
     ]
    }
   ],
   "source": [
    "alm_0['cus_num'] = alm_0['cus_num'].astype(\"str\")\n",
    "alm_3_['cus_num'] = alm_3_['cus_num'].astype(\"str\")\n",
    "alm_6_['cus_num'] = alm_6_['cus_num'].astype(\"str\")\n",
    "alm_9_['cus_num'] = alm_9_['cus_num'].astype(\"str\")"
   ]
  },
  {
   "cell_type": "code",
   "execution_count": 9,
   "metadata": {},
   "outputs": [
    {
     "name": "stdout",
     "output_type": "stream",
     "text": [
      "21235\n"
     ]
    }
   ],
   "source": [
    "# 删除\n",
    "empty_cus_num = list()\n",
    "with open(r\"D:\\GRADUATE\\BAIRONG\\Review\\empty_cus_num.txt\",'r') as f:\n",
    "    for line in f.readlines():\n",
    "        empty_cus_num.append(line.strip('\\n'))\n",
    "print(len(empty_cus_num))"
   ]
  },
  {
   "cell_type": "code",
   "execution_count": 10,
   "metadata": {},
   "outputs": [],
   "source": [
    "# 自定义转换函数\n",
    "def to_float(value):\n",
    "    \"\"\"\n",
    "    转换字符串/float等数字为float\n",
    "    \"\"\"\n",
    "    if not pd.isnull(value):\n",
    "        #print(value)\n",
    "        new_value = np.float(value)\n",
    "        # 如果是float的字符串，会出现错误，\n",
    "        return new_value\n",
    "    else:\n",
    "        return value\n",
    "\n",
    "# als_.iloc[:,12].apply(standardize).value_counts(dropna=False)"
   ]
  },
  {
   "cell_type": "code",
   "execution_count": 11,
   "metadata": {},
   "outputs": [
    {
     "name": "stderr",
     "output_type": "stream",
     "text": [
      "E:\\Programmer\\Anaconda3\\lib\\site-packages\\ipykernel_launcher.py:6: SettingWithCopyWarning: \n",
      "A value is trying to be set on a copy of a slice from a DataFrame.\n",
      "Try using .loc[row_indexer,col_indexer] = value instead\n",
      "\n",
      "See the caveats in the documentation: https://pandas.pydata.org/pandas-docs/stable/user_guide/indexing.html#returning-a-view-versus-a-copy\n",
      "  \n",
      "E:\\Programmer\\Anaconda3\\lib\\site-packages\\ipykernel_launcher.py:7: SettingWithCopyWarning: \n",
      "A value is trying to be set on a copy of a slice from a DataFrame.\n",
      "Try using .loc[row_indexer,col_indexer] = value instead\n",
      "\n",
      "See the caveats in the documentation: https://pandas.pydata.org/pandas-docs/stable/user_guide/indexing.html#returning-a-view-versus-a-copy\n",
      "  import sys\n",
      "E:\\Programmer\\Anaconda3\\lib\\site-packages\\ipykernel_launcher.py:8: SettingWithCopyWarning: \n",
      "A value is trying to be set on a copy of a slice from a DataFrame.\n",
      "Try using .loc[row_indexer,col_indexer] = value instead\n",
      "\n",
      "See the caveats in the documentation: https://pandas.pydata.org/pandas-docs/stable/user_guide/indexing.html#returning-a-view-versus-a-copy\n",
      "  \n"
     ]
    }
   ],
   "source": [
    "# 以下下需要进行类型转换，保证都是整型（次数），因为基本都属于\n",
    "#\n",
    "fe_to_float = ['cons_m3_JYDQ_num','cons_m3_JYDQ_pay','cons_m3_RYBH_pay','cons_m3_RYBH_num','cons_m3_MYYP_num','cons_m3_MYYP_pay','cons_m12_JYDQ_num','cons_m12_JYDQ_pay','cons_m12_MYYP_num','cons_m12_MYYP_pay','cons_m12_RYBH_pay','cons_m12_RYBH_num','cons_tot_m3_pay','cons_tot_m3_p_catenum','cons_tot_m3_num','cons_max_m3_num','cons_tot_m12_pay','cons_tot_m12_p_catenum','cons_tot_m12_num','cons_max_m12_num','cons_tot_m3_visits','cons_tot_m3_v_catenum','cons_tot_m12_visits','cons_tot_m12_v_catenum','cons_max_m12_pay','cons_max_m3_pay']\n",
    "for fe in fe_to_float:\n",
    "    alm_0[fe] =  alm_0[fe].apply(to_float)\n",
    "    alm_3_[fe] =  alm_3_[fe].apply(to_float)\n",
    "    alm_6_[fe] =  alm_6_[fe].apply(to_float)\n",
    "    alm_9_[fe] =  alm_9_[fe].apply(to_float)"
   ]
  },
  {
   "cell_type": "code",
   "execution_count": 12,
   "metadata": {},
   "outputs": [
    {
     "name": "stdout",
     "output_type": "stream",
     "text": [
      "21235\n"
     ]
    }
   ],
   "source": [
    "# 统一好数据格式，首先进行drop处理，干掉大量缺失的数据\n",
    "# 删除\n",
    "empty_cus_num = list()\n",
    "with open(r\"D:\\GRADUATE\\BAIRONG\\Review\\empty_cus_num.txt\",'r') as f:\n",
    "    for line in f.readlines():\n",
    "        empty_cus_num.append(line.strip('\\n'))\n",
    "print(len(empty_cus_num))"
   ]
  },
  {
   "cell_type": "code",
   "execution_count": 13,
   "metadata": {},
   "outputs": [],
   "source": [
    "alm_0_keep = alm_0.drop(alm_0[alm_0['cus_num'].isin(empty_cus_num)].index)\n",
    "alm_3_keep = alm_3_.drop(alm_3_[alm_3_['cus_num'].isin(empty_cus_num)].index)\n",
    "alm_6_keep = alm_6_.drop(alm_6_[alm_6_['cus_num'].isin(empty_cus_num)].index)\n",
    "alm_9_keep = alm_9_.drop(alm_9_[alm_9_['cus_num'].isin(empty_cus_num)].index)"
   ]
  },
  {
   "cell_type": "code",
   "execution_count": 14,
   "metadata": {},
   "outputs": [
    {
     "data": {
      "text/plain": [
       "66870"
      ]
     },
     "execution_count": 14,
     "metadata": {},
     "output_type": "execute_result"
    }
   ],
   "source": [
    "len(alm_0_keep)"
   ]
  },
  {
   "cell_type": "code",
   "execution_count": 15,
   "metadata": {},
   "outputs": [
    {
     "data": {
      "text/plain": [
       "72024"
      ]
     },
     "execution_count": 15,
     "metadata": {},
     "output_type": "execute_result"
    }
   ],
   "source": [
    "len(alm_3_keep)"
   ]
  },
  {
   "cell_type": "code",
   "execution_count": 16,
   "metadata": {},
   "outputs": [
    {
     "data": {
      "text/plain": [
       "NaN      32432\n",
       "0.0      26720\n",
       "2.0       1782\n",
       "4.0       1714\n",
       "8.0        775\n",
       "         ...  \n",
       "35.0         1\n",
       "53.0         1\n",
       "41.0         1\n",
       "85.0         1\n",
       "283.0        1\n",
       "Name: cons_m3_JYDQ_num, Length: 75, dtype: int64"
      ]
     },
     "execution_count": 16,
     "metadata": {},
     "output_type": "execute_result"
    }
   ],
   "source": [
    "alm_0_keep['cons_m3_JYDQ_num'].value_counts(dropna=False)"
   ]
  },
  {
   "cell_type": "code",
   "execution_count": 17,
   "metadata": {},
   "outputs": [],
   "source": [
    "# 对float类型的数据，以0.0填充nan\n",
    "fe_to_float = ['cons_m3_JYDQ_num','cons_m3_JYDQ_pay','cons_m3_RYBH_pay','cons_m3_RYBH_num','cons_m3_MYYP_num','cons_m3_MYYP_pay','cons_m12_JYDQ_num','cons_m12_JYDQ_pay','cons_m12_MYYP_num','cons_m12_MYYP_pay','cons_m12_RYBH_pay','cons_m12_RYBH_num','cons_tot_m3_pay','cons_tot_m3_p_catenum','cons_tot_m3_num','cons_max_m3_num','cons_tot_m12_pay','cons_tot_m12_p_catenum','cons_tot_m12_num','cons_max_m12_num','cons_tot_m3_visits','cons_tot_m3_v_catenum','cons_tot_m12_visits','cons_tot_m12_v_catenum','cons_max_m12_pay','cons_max_m3_pay']\n",
    "for fe in fe_to_float:\n",
    "    alm_0_keep[fe].fillna(0.0,inplace=True)\n",
    "    alm_3_keep[fe].fillna(0.0,inplace=True)\n",
    "    alm_6_keep[fe].fillna(0.0,inplace=True)\n",
    "    alm_9_keep[fe].fillna(0.0,inplace=True)"
   ]
  },
  {
   "cell_type": "code",
   "execution_count": 18,
   "metadata": {},
   "outputs": [],
   "source": [
    "# 对object类型数据，单独作为一个类型\n",
    "def fillna_with_default(alm_i_keep):\n",
    "    alm_i_keep['cons_time_recent'].fillna('T0',inplace=True)\n",
    "    alm_i_keep['cons_max_m3_paycate'].fillna('C0',inplace=True)\n",
    "    alm_i_keep['cons_max_m12_paycate'].fillna('C0',inplace=True)\n",
    "    alm_i_keep['cons_cont'].fillna('M0',inplace=True)\n",
    "\n",
    "fillna_with_default(alm_0_keep)\n",
    "fillna_with_default(alm_3_keep)\n",
    "fillna_with_default(alm_6_keep)\n",
    "fillna_with_default(alm_9_keep)"
   ]
  },
  {
   "cell_type": "code",
   "execution_count": 19,
   "metadata": {},
   "outputs": [],
   "source": [
    "# 对alm_0,3,6,9的各列进行重命名\n",
    "def rename_col(i):\n",
    "    keep_col = ['cons_m3_JYDQ_num','cons_m3_JYDQ_pay','cons_m3_RYBH_pay','cons_m3_RYBH_num','cons_m3_MYYP_num','cons_m3_MYYP_pay','cons_m12_JYDQ_num','cons_m12_JYDQ_pay','cons_m12_MYYP_num','cons_m12_MYYP_pay','cons_m12_RYBH_pay','cons_m12_RYBH_num','cons_tot_m3_pay','cons_tot_m3_p_catenum','cons_tot_m3_num','cons_max_m3_num','cons_tot_m12_pay','cons_tot_m12_p_catenum','cons_tot_m12_num','cons_max_m12_num','cons_tot_m3_visits','cons_tot_m3_v_catenum','cons_tot_m12_visits','cons_tot_m12_v_catenum','cons_max_m12_pay','cons_max_m3_pay',\n",
    "             'cons_time_recent','cons_max_m3_paycate','cons_max_m12_paycate','cons_cont']\n",
    "    rename_col_dict = {}\n",
    "    for col in keep_col:\n",
    "        rename_col_dict[col] = col + \"_%s\"%i\n",
    "    return rename_col_dict"
   ]
  },
  {
   "cell_type": "code",
   "execution_count": 20,
   "metadata": {},
   "outputs": [],
   "source": [
    "# 定义函数用于萃取cus_num和其他30个特征即可\n",
    "def get_rename_col_list(i):\n",
    "    keep_col = ['cons_m3_JYDQ_num','cons_m3_JYDQ_pay','cons_m3_RYBH_pay','cons_m3_RYBH_num','cons_m3_MYYP_num','cons_m3_MYYP_pay','cons_m12_JYDQ_num','cons_m12_JYDQ_pay','cons_m12_MYYP_num','cons_m12_MYYP_pay','cons_m12_RYBH_pay','cons_m12_RYBH_num','cons_tot_m3_pay','cons_tot_m3_p_catenum','cons_tot_m3_num','cons_max_m3_num','cons_tot_m12_pay','cons_tot_m12_p_catenum','cons_tot_m12_num','cons_max_m12_num','cons_tot_m3_visits','cons_tot_m3_v_catenum','cons_tot_m12_visits','cons_tot_m12_v_catenum','cons_max_m12_pay','cons_max_m3_pay',\n",
    "             'cons_time_recent','cons_max_m3_paycate','cons_max_m12_paycate','cons_cont']\n",
    "    res = ['cus_num']\n",
    "    keep_col_i = []\n",
    "    for col in keep_col:\n",
    "        keep_col_i.append(col + \"_%s\" % i)\n",
    "    res.extend(keep_col_i)\n",
    "    return res"
   ]
  },
  {
   "cell_type": "code",
   "execution_count": 21,
   "metadata": {},
   "outputs": [],
   "source": [
    "alm_0_keep_r = alm_0_keep.rename(columns=rename_col(0))"
   ]
  },
  {
   "cell_type": "code",
   "execution_count": 22,
   "metadata": {},
   "outputs": [],
   "source": [
    "alm_3_keep_r = alm_3_keep.rename(columns=rename_col(3))\n",
    "alm_3_keep_r_distill = alm_3_keep_r[get_rename_col_list(3)]\n",
    "\n",
    "alm_6_keep_r = alm_6_keep.rename(columns=rename_col(6))\n",
    "alm_6_keep_r_distill = alm_6_keep_r[get_rename_col_list(6)]\n",
    "\n",
    "alm_9_keep_r = alm_9_keep.rename(columns=rename_col(9))\n",
    "alm_9_keep_r_distill = alm_9_keep_r[get_rename_col_list(9)]"
   ]
  },
  {
   "cell_type": "code",
   "execution_count": 23,
   "metadata": {},
   "outputs": [],
   "source": [
    "#开始进行合并\n",
    "alm_all_keep_r_distill = pd.merge(alm_0_keep_r, alm_3_keep_r_distill, how='inner', on=['cus_num'])\n",
    "alm_all_keep_r_distill = pd.merge(alm_all_keep_r_distill, alm_6_keep_r_distill, how='inner', on=['cus_num'])\n",
    "alm_all_keep_r_distill = pd.merge(alm_all_keep_r_distill, alm_9_keep_r_distill, how='inner', on=['cus_num'])"
   ]
  },
  {
   "cell_type": "code",
   "execution_count": 24,
   "metadata": {},
   "outputs": [
    {
     "data": {
      "text/html": [
       "<div>\n",
       "<style scoped>\n",
       "    .dataframe tbody tr th:only-of-type {\n",
       "        vertical-align: middle;\n",
       "    }\n",
       "\n",
       "    .dataframe tbody tr th {\n",
       "        vertical-align: top;\n",
       "    }\n",
       "\n",
       "    .dataframe thead th {\n",
       "        text-align: right;\n",
       "    }\n",
       "</style>\n",
       "<table border=\"1\" class=\"dataframe\">\n",
       "  <thead>\n",
       "    <tr style=\"text-align: right;\">\n",
       "      <th></th>\n",
       "      <th>index_0</th>\n",
       "      <th>cus_num</th>\n",
       "      <th>id</th>\n",
       "      <th>cell</th>\n",
       "      <th>name</th>\n",
       "      <th>flagy</th>\n",
       "      <th>custApiCode</th>\n",
       "      <th>user_date</th>\n",
       "      <th>swift_number</th>\n",
       "      <th>cus_username</th>\n",
       "      <th>...</th>\n",
       "      <th>cons_tot_m3_visits_9</th>\n",
       "      <th>cons_tot_m3_v_catenum_9</th>\n",
       "      <th>cons_tot_m12_visits_9</th>\n",
       "      <th>cons_tot_m12_v_catenum_9</th>\n",
       "      <th>cons_max_m12_pay_9</th>\n",
       "      <th>cons_max_m3_pay_9</th>\n",
       "      <th>cons_time_recent_9</th>\n",
       "      <th>cons_max_m3_paycate_9</th>\n",
       "      <th>cons_max_m12_paycate_9</th>\n",
       "      <th>cons_cont_9</th>\n",
       "    </tr>\n",
       "  </thead>\n",
       "  <tbody>\n",
       "    <tr>\n",
       "      <th>0</th>\n",
       "      <td>0</td>\n",
       "      <td>1</td>\n",
       "      <td>13032419870423##1#</td>\n",
       "      <td>1333333####</td>\n",
       "      <td>宁##</td>\n",
       "      <td>1</td>\n",
       "      <td>3000983</td>\n",
       "      <td>2017-04-26</td>\n",
       "      <td>4000056_20190606101948_6234</td>\n",
       "      <td>yejingyou_test</td>\n",
       "      <td>...</td>\n",
       "      <td>1996.0</td>\n",
       "      <td>24.0</td>\n",
       "      <td>3381.0</td>\n",
       "      <td>24.0</td>\n",
       "      <td>10000.0</td>\n",
       "      <td>7000.0</td>\n",
       "      <td>T1</td>\n",
       "      <td>C17</td>\n",
       "      <td>C17</td>\n",
       "      <td>M3</td>\n",
       "    </tr>\n",
       "    <tr>\n",
       "      <th>1</th>\n",
       "      <td>1</td>\n",
       "      <td>10</td>\n",
       "      <td>13040219940711##2#</td>\n",
       "      <td>1508100####</td>\n",
       "      <td>蔺##</td>\n",
       "      <td>1</td>\n",
       "      <td>3000983</td>\n",
       "      <td>2017-10-26</td>\n",
       "      <td>4000056_20190606101948_3022</td>\n",
       "      <td>yejingyou_test</td>\n",
       "      <td>...</td>\n",
       "      <td>1743.0</td>\n",
       "      <td>16.0</td>\n",
       "      <td>11259.0</td>\n",
       "      <td>22.0</td>\n",
       "      <td>20000.0</td>\n",
       "      <td>1000.0</td>\n",
       "      <td>T1</td>\n",
       "      <td>C5</td>\n",
       "      <td>C7</td>\n",
       "      <td>M4</td>\n",
       "    </tr>\n",
       "    <tr>\n",
       "      <th>2</th>\n",
       "      <td>2</td>\n",
       "      <td>100</td>\n",
       "      <td>13043119850415##3#</td>\n",
       "      <td>1383208####</td>\n",
       "      <td>桑#</td>\n",
       "      <td>1</td>\n",
       "      <td>3000983</td>\n",
       "      <td>2017-12-09</td>\n",
       "      <td>4000056_20190606101952_4792</td>\n",
       "      <td>yejingyou_test</td>\n",
       "      <td>...</td>\n",
       "      <td>100.0</td>\n",
       "      <td>15.0</td>\n",
       "      <td>577.0</td>\n",
       "      <td>15.0</td>\n",
       "      <td>800.0</td>\n",
       "      <td>200.0</td>\n",
       "      <td>T1</td>\n",
       "      <td>C26</td>\n",
       "      <td>C5</td>\n",
       "      <td>M4</td>\n",
       "    </tr>\n",
       "    <tr>\n",
       "      <th>3</th>\n",
       "      <td>3</td>\n",
       "      <td>1000</td>\n",
       "      <td>13092519900220##2#</td>\n",
       "      <td>1346376####</td>\n",
       "      <td>刘##</td>\n",
       "      <td>1</td>\n",
       "      <td>3000983</td>\n",
       "      <td>2017-12-05</td>\n",
       "      <td>4000056_20190606102032_3642</td>\n",
       "      <td>yejingyou_test</td>\n",
       "      <td>...</td>\n",
       "      <td>560.0</td>\n",
       "      <td>8.0</td>\n",
       "      <td>1788.0</td>\n",
       "      <td>15.0</td>\n",
       "      <td>50000.0</td>\n",
       "      <td>10000.0</td>\n",
       "      <td>T1</td>\n",
       "      <td>C7</td>\n",
       "      <td>C7</td>\n",
       "      <td>M4</td>\n",
       "    </tr>\n",
       "    <tr>\n",
       "      <th>4</th>\n",
       "      <td>4</td>\n",
       "      <td>10000</td>\n",
       "      <td>14270319660329##4#</td>\n",
       "      <td>1363359####</td>\n",
       "      <td>吴##</td>\n",
       "      <td>0</td>\n",
       "      <td>3000983</td>\n",
       "      <td>2017-05-10</td>\n",
       "      <td>4000056_20190606102626_0291</td>\n",
       "      <td>yejingyou_test</td>\n",
       "      <td>...</td>\n",
       "      <td>103.0</td>\n",
       "      <td>6.0</td>\n",
       "      <td>355.0</td>\n",
       "      <td>7.0</td>\n",
       "      <td>80.0</td>\n",
       "      <td>1.0</td>\n",
       "      <td>T2</td>\n",
       "      <td>C26</td>\n",
       "      <td>C26</td>\n",
       "      <td>M0</td>\n",
       "    </tr>\n",
       "    <tr>\n",
       "      <th>...</th>\n",
       "      <td>...</td>\n",
       "      <td>...</td>\n",
       "      <td>...</td>\n",
       "      <td>...</td>\n",
       "      <td>...</td>\n",
       "      <td>...</td>\n",
       "      <td>...</td>\n",
       "      <td>...</td>\n",
       "      <td>...</td>\n",
       "      <td>...</td>\n",
       "      <td>...</td>\n",
       "      <td>...</td>\n",
       "      <td>...</td>\n",
       "      <td>...</td>\n",
       "      <td>...</td>\n",
       "      <td>...</td>\n",
       "      <td>...</td>\n",
       "      <td>...</td>\n",
       "      <td>...</td>\n",
       "      <td>...</td>\n",
       "      <td>...</td>\n",
       "    </tr>\n",
       "    <tr>\n",
       "      <th>66865</th>\n",
       "      <td>88098</td>\n",
       "      <td>78689</td>\n",
       "      <td>53038119990923##1#</td>\n",
       "      <td>1820679####</td>\n",
       "      <td>刘##</td>\n",
       "      <td>0</td>\n",
       "      <td>3000013</td>\n",
       "      <td>2018-08-09</td>\n",
       "      <td>4000056_20190606110921_1932</td>\n",
       "      <td>yejingyou_test</td>\n",
       "      <td>...</td>\n",
       "      <td>556.0</td>\n",
       "      <td>8.0</td>\n",
       "      <td>1330.0</td>\n",
       "      <td>11.0</td>\n",
       "      <td>30000.0</td>\n",
       "      <td>10000.0</td>\n",
       "      <td>T1</td>\n",
       "      <td>C24</td>\n",
       "      <td>C24</td>\n",
       "      <td>M4</td>\n",
       "    </tr>\n",
       "    <tr>\n",
       "      <th>66866</th>\n",
       "      <td>88099</td>\n",
       "      <td>7868b</td>\n",
       "      <td>35062819810220##6#</td>\n",
       "      <td>1395969####</td>\n",
       "      <td>陈##</td>\n",
       "      <td>0</td>\n",
       "      <td>3100122</td>\n",
       "      <td>2017-07-18</td>\n",
       "      <td>4000056_20190606111710_4914</td>\n",
       "      <td>yejingyou_test</td>\n",
       "      <td>...</td>\n",
       "      <td>1088.0</td>\n",
       "      <td>18.0</td>\n",
       "      <td>2503.0</td>\n",
       "      <td>19.0</td>\n",
       "      <td>9000.0</td>\n",
       "      <td>4000.0</td>\n",
       "      <td>T1</td>\n",
       "      <td>C7</td>\n",
       "      <td>C24</td>\n",
       "      <td>M4</td>\n",
       "    </tr>\n",
       "    <tr>\n",
       "      <th>66867</th>\n",
       "      <td>88100</td>\n",
       "      <td>7869</td>\n",
       "      <td>32083119931014##3#</td>\n",
       "      <td>1865240####</td>\n",
       "      <td>闵##</td>\n",
       "      <td>0</td>\n",
       "      <td>3000983</td>\n",
       "      <td>2018-01-24</td>\n",
       "      <td>4000056_20190606102504_9565</td>\n",
       "      <td>yejingyou_test</td>\n",
       "      <td>...</td>\n",
       "      <td>134.0</td>\n",
       "      <td>5.0</td>\n",
       "      <td>4089.0</td>\n",
       "      <td>21.0</td>\n",
       "      <td>20000.0</td>\n",
       "      <td>600.0</td>\n",
       "      <td>T1</td>\n",
       "      <td>C7</td>\n",
       "      <td>C7</td>\n",
       "      <td>M4</td>\n",
       "    </tr>\n",
       "    <tr>\n",
       "      <th>66868</th>\n",
       "      <td>88101</td>\n",
       "      <td>78690</td>\n",
       "      <td>61032619910208##6#</td>\n",
       "      <td>1839276####</td>\n",
       "      <td>刘##</td>\n",
       "      <td>0</td>\n",
       "      <td>3000013</td>\n",
       "      <td>2018-08-09</td>\n",
       "      <td>4000056_20190606110921_3412</td>\n",
       "      <td>yejingyou_test</td>\n",
       "      <td>...</td>\n",
       "      <td>30.0</td>\n",
       "      <td>6.0</td>\n",
       "      <td>1886.0</td>\n",
       "      <td>10.0</td>\n",
       "      <td>600.0</td>\n",
       "      <td>80.0</td>\n",
       "      <td>T1</td>\n",
       "      <td>C26</td>\n",
       "      <td>C29</td>\n",
       "      <td>M2</td>\n",
       "    </tr>\n",
       "    <tr>\n",
       "      <th>66869</th>\n",
       "      <td>88104</td>\n",
       "      <td>78693</td>\n",
       "      <td>42900520000719##1#</td>\n",
       "      <td>1354596####</td>\n",
       "      <td>肖##</td>\n",
       "      <td>0</td>\n",
       "      <td>3000013</td>\n",
       "      <td>2018-08-09</td>\n",
       "      <td>4000056_20190606110921_0241</td>\n",
       "      <td>yejingyou_test</td>\n",
       "      <td>...</td>\n",
       "      <td>78.0</td>\n",
       "      <td>7.0</td>\n",
       "      <td>339.0</td>\n",
       "      <td>10.0</td>\n",
       "      <td>2000.0</td>\n",
       "      <td>1.0</td>\n",
       "      <td>T2</td>\n",
       "      <td>C29</td>\n",
       "      <td>C23</td>\n",
       "      <td>M0</td>\n",
       "    </tr>\n",
       "  </tbody>\n",
       "</table>\n",
       "<p>66870 rows × 149 columns</p>\n",
       "</div>"
      ],
      "text/plain": [
       "       index_0 cus_num                  id         cell name  flagy  \\\n",
       "0            0       1  13032419870423##1#  1333333####  宁##      1   \n",
       "1            1      10  13040219940711##2#  1508100####  蔺##      1   \n",
       "2            2     100  13043119850415##3#  1383208####   桑#      1   \n",
       "3            3    1000  13092519900220##2#  1346376####  刘##      1   \n",
       "4            4   10000  14270319660329##4#  1363359####  吴##      0   \n",
       "...        ...     ...                 ...          ...  ...    ...   \n",
       "66865    88098   78689  53038119990923##1#  1820679####  刘##      0   \n",
       "66866    88099   7868b  35062819810220##6#  1395969####  陈##      0   \n",
       "66867    88100    7869  32083119931014##3#  1865240####  闵##      0   \n",
       "66868    88101   78690  61032619910208##6#  1839276####  刘##      0   \n",
       "66869    88104   78693  42900520000719##1#  1354596####  肖##      0   \n",
       "\n",
       "       custApiCode   user_date                 swift_number    cus_username  \\\n",
       "0          3000983  2017-04-26  4000056_20190606101948_6234  yejingyou_test   \n",
       "1          3000983  2017-10-26  4000056_20190606101948_3022  yejingyou_test   \n",
       "2          3000983  2017-12-09  4000056_20190606101952_4792  yejingyou_test   \n",
       "3          3000983  2017-12-05  4000056_20190606102032_3642  yejingyou_test   \n",
       "4          3000983  2017-05-10  4000056_20190606102626_0291  yejingyou_test   \n",
       "...            ...         ...                          ...             ...   \n",
       "66865      3000013  2018-08-09  4000056_20190606110921_1932  yejingyou_test   \n",
       "66866      3100122  2017-07-18  4000056_20190606111710_4914  yejingyou_test   \n",
       "66867      3000983  2018-01-24  4000056_20190606102504_9565  yejingyou_test   \n",
       "66868      3000013  2018-08-09  4000056_20190606110921_3412  yejingyou_test   \n",
       "66869      3000013  2018-08-09  4000056_20190606110921_0241  yejingyou_test   \n",
       "\n",
       "       ...  cons_tot_m3_visits_9  cons_tot_m3_v_catenum_9  \\\n",
       "0      ...                1996.0                     24.0   \n",
       "1      ...                1743.0                     16.0   \n",
       "2      ...                 100.0                     15.0   \n",
       "3      ...                 560.0                      8.0   \n",
       "4      ...                 103.0                      6.0   \n",
       "...    ...                   ...                      ...   \n",
       "66865  ...                 556.0                      8.0   \n",
       "66866  ...                1088.0                     18.0   \n",
       "66867  ...                 134.0                      5.0   \n",
       "66868  ...                  30.0                      6.0   \n",
       "66869  ...                  78.0                      7.0   \n",
       "\n",
       "       cons_tot_m12_visits_9  cons_tot_m12_v_catenum_9  cons_max_m12_pay_9  \\\n",
       "0                     3381.0                      24.0             10000.0   \n",
       "1                    11259.0                      22.0             20000.0   \n",
       "2                      577.0                      15.0               800.0   \n",
       "3                     1788.0                      15.0             50000.0   \n",
       "4                      355.0                       7.0                80.0   \n",
       "...                      ...                       ...                 ...   \n",
       "66865                 1330.0                      11.0             30000.0   \n",
       "66866                 2503.0                      19.0              9000.0   \n",
       "66867                 4089.0                      21.0             20000.0   \n",
       "66868                 1886.0                      10.0               600.0   \n",
       "66869                  339.0                      10.0              2000.0   \n",
       "\n",
       "      cons_max_m3_pay_9  cons_time_recent_9  cons_max_m3_paycate_9  \\\n",
       "0                7000.0                  T1                    C17   \n",
       "1                1000.0                  T1                     C5   \n",
       "2                 200.0                  T1                    C26   \n",
       "3               10000.0                  T1                     C7   \n",
       "4                   1.0                  T2                    C26   \n",
       "...                 ...                 ...                    ...   \n",
       "66865           10000.0                  T1                    C24   \n",
       "66866            4000.0                  T1                     C7   \n",
       "66867             600.0                  T1                     C7   \n",
       "66868              80.0                  T1                    C26   \n",
       "66869               1.0                  T2                    C29   \n",
       "\n",
       "       cons_max_m12_paycate_9  cons_cont_9  \n",
       "0                         C17           M3  \n",
       "1                          C7           M4  \n",
       "2                          C5           M4  \n",
       "3                          C7           M4  \n",
       "4                         C26           M0  \n",
       "...                       ...          ...  \n",
       "66865                     C24           M4  \n",
       "66866                     C24           M4  \n",
       "66867                      C7           M4  \n",
       "66868                     C29           M2  \n",
       "66869                     C23           M0  \n",
       "\n",
       "[66870 rows x 149 columns]"
      ]
     },
     "execution_count": 24,
     "metadata": {},
     "output_type": "execute_result"
    }
   ],
   "source": [
    "alm_all_keep_r_distill"
   ]
  },
  {
   "cell_type": "code",
   "execution_count": null,
   "metadata": {},
   "outputs": [],
   "source": [
    "# 填充了0.0和M0 T0 M0"
   ]
  },
  {
   "cell_type": "code",
   "execution_count": 25,
   "metadata": {},
   "outputs": [],
   "source": [
    "alm_all_keep_r_distill.to_csv(r\"D:/GRADUATE\\BAIRONG/Review/alm_all_keep_r_distill.csv\")"
   ]
  },
  {
   "cell_type": "code",
   "execution_count": null,
   "metadata": {},
   "outputs": [],
   "source": []
  }
 ],
 "metadata": {
  "kernelspec": {
   "display_name": "Python 3",
   "language": "python",
   "name": "python3"
  },
  "language_info": {
   "codemirror_mode": {
    "name": "ipython",
    "version": 3
   },
   "file_extension": ".py",
   "mimetype": "text/x-python",
   "name": "python",
   "nbconvert_exporter": "python",
   "pygments_lexer": "ipython3",
   "version": "3.7.5"
  }
 },
 "nbformat": 4,
 "nbformat_minor": 4
}
